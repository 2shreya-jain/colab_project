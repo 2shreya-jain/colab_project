{
  "nbformat": 4,
  "nbformat_minor": 0,
  "metadata": {
    "colab": {
      "name": "day83.ipynb",
      "provenance": [],
      "collapsed_sections": []
    },
    "kernelspec": {
      "name": "python3",
      "display_name": "Python 3"
    },
    "language_info": {
      "name": "python"
    },
    "accelerator": "GPU"
  },
  "cells": [
    {
      "cell_type": "code",
      "metadata": {
        "colab": {
          "base_uri": "https://localhost:8080/"
        },
        "id": "mWjmNweOQh33",
        "outputId": "2f94335e-0ce1-4176-e7ae-7564855e8d7a"
      },
      "source": [
        "print(1+2)"
      ],
      "execution_count": null,
      "outputs": [
        {
          "output_type": "stream",
          "name": "stdout",
          "text": [
            "3\n"
          ]
        }
      ]
    },
    {
      "cell_type": "code",
      "metadata": {
        "colab": {
          "base_uri": "https://localhost:8080/"
        },
        "id": "yWtT7cXCRu0i",
        "outputId": "0b5dc99f-a2c7-455b-9bab-6264120e0987"
      },
      "source": [
        "ls"
      ],
      "execution_count": 9,
      "outputs": [
        {
          "output_type": "stream",
          "name": "stdout",
          "text": [
            "\u001b[0m\u001b[01;34mdrive\u001b[0m/  \u001b[01;34msample_data\u001b[0m/\n"
          ]
        }
      ]
    },
    {
      "cell_type": "code",
      "metadata": {
        "colab": {
          "base_uri": "https://localhost:8080/"
        },
        "id": "kj2Zn7G3Hd35",
        "outputId": "a1876700-0280-4948-947d-2be624dbf258"
      },
      "source": [
        "cd drive/"
      ],
      "execution_count": 10,
      "outputs": [
        {
          "output_type": "stream",
          "name": "stdout",
          "text": [
            "/content/drive\n"
          ]
        }
      ]
    },
    {
      "cell_type": "code",
      "metadata": {
        "colab": {
          "base_uri": "https://localhost:8080/"
        },
        "id": "D8ycvtCQHh9a",
        "outputId": "fdfa2a60-5cb2-4b45-f986-a538188fbecf"
      },
      "source": [
        "ls"
      ],
      "execution_count": 11,
      "outputs": [
        {
          "output_type": "stream",
          "name": "stdout",
          "text": [
            "\u001b[0m\u001b[01;34mMyDrive\u001b[0m/\n"
          ]
        }
      ]
    },
    {
      "cell_type": "code",
      "metadata": {
        "colab": {
          "base_uri": "https://localhost:8080/"
        },
        "id": "0wTsQ3gzHjuU",
        "outputId": "116d7dd7-0afb-444e-9d43-e49eb5840ee2"
      },
      "source": [
        "cd MyDrive/"
      ],
      "execution_count": 12,
      "outputs": [
        {
          "output_type": "stream",
          "name": "stdout",
          "text": [
            "/content/drive/MyDrive\n"
          ]
        }
      ]
    },
    {
      "cell_type": "code",
      "metadata": {
        "colab": {
          "base_uri": "https://localhost:8080/"
        },
        "id": "Vb7SWgWtHoMQ",
        "outputId": "164a08bc-48cc-4d77-eb41-49656c5a8bae"
      },
      "source": [
        "ls"
      ],
      "execution_count": 13,
      "outputs": [
        {
          "output_type": "stream",
          "name": "stdout",
          "text": [
            " 1.gdoc                   Resume.docx\n",
            " balance_reviews.csv     'TurboC++ for Windows 7_v3.7.8.9major_release.exe'\n",
            "'Captions Ref.gdoc'       Untitled0.ipynb\n",
            " model.h5                 Untitled1.ipynb\n",
            "'project proposal.gdoc'   Untitled2.ipynb\n",
            "'Resume (1).docx'        'Untitled document.gdoc'\n"
          ]
        }
      ]
    },
    {
      "cell_type": "code",
      "metadata": {
        "id": "I7iYC888SgzE"
      },
      "source": [
        "import pandas as pd\n",
        "\n",
        "df =  pd.read_csv('balance_reviews.csv',nrows=60000)\n",
        "\n",
        "\n",
        "\n",
        "df.isnull().any(axis = 0)\n",
        "\n",
        "#handle the missing data\n",
        "df.dropna(inplace =  True)\n",
        "\n",
        "#leaving the reviews with rating 3 and collect reviews with\n",
        "#rating 1, 2, 4 and 5 onyl\n",
        "\n",
        "df = df [df['overall'] != 3]\n",
        "\n",
        "import numpy as np\n",
        "\n",
        "#creating a label\n",
        "#based on the values in overall column\n",
        "df['Positivity'] = np.where(df['overall'] > 3 , 1 , 0)\n",
        "\n",
        "#NLP\n",
        "#reviewText - feature - df['reviewText']\n",
        "#Positivity - label - df['Positivity']\n",
        "\n",
        "\n",
        "\n",
        "#version 02\n",
        "#tf-idf \n",
        "#term frequency inverse document frequency\n",
        "\n",
        "from sklearn.model_selection import train_test_split\n",
        "\n",
        "features_train, features_test, labels_train, labels_test = train_test_split(df['reviewText'], df['Positivity'], random_state = 42, test_size = 0.5 )\n",
        "\n",
        "\n",
        "\n",
        "from sklearn.feature_extraction.text import TfidfVectorizer\n",
        "\n",
        "#vect = TfidfVectorizer(min_df = 50).fit(features_train)\n",
        "#vect = TfidfVectorizer(min_df=5, ngram_range=(1, 2), stop_words='english', max_features= 2000,strip_accents='unicode', norm='l2')\n",
        "vect = TfidfVectorizer(min_df=5, max_features= 3000)\n",
        "\n",
        "features_train_vectorized = vect.fit_transform(features_train)"
      ],
      "execution_count": 14,
      "outputs": []
    },
    {
      "cell_type": "code",
      "metadata": {
        "colab": {
          "base_uri": "https://localhost:8080/"
        },
        "id": "TTnervK5xsD4",
        "outputId": "e3172e2e-c1ed-4a3f-80c4-593c370dc1db"
      },
      "source": [
        "len(df)"
      ],
      "execution_count": 15,
      "outputs": [
        {
          "output_type": "execute_result",
          "data": {
            "text/plain": [
              "7903"
            ]
          },
          "metadata": {},
          "execution_count": 15
        }
      ]
    },
    {
      "cell_type": "code",
      "metadata": {
        "colab": {
          "base_uri": "https://localhost:8080/"
        },
        "id": "cAB5fvUaS03Q",
        "outputId": "7b02c78e-2e7d-40d8-d6c7-f1efd23350fa"
      },
      "source": [
        "features_train_vectorized"
      ],
      "execution_count": 16,
      "outputs": [
        {
          "output_type": "execute_result",
          "data": {
            "text/plain": [
              "<3951x1766 sparse matrix of type '<class 'numpy.float64'>'\n",
              "\twith 86529 stored elements in Compressed Sparse Row format>"
            ]
          },
          "metadata": {},
          "execution_count": 16
        }
      ]
    },
    {
      "cell_type": "code",
      "metadata": {
        "id": "PMyom0k8TFEA"
      },
      "source": [
        "features_train_vectorized = features_train_vectorized.todense()"
      ],
      "execution_count": 17,
      "outputs": []
    },
    {
      "cell_type": "code",
      "metadata": {
        "id": "m3dtc6aYTIKx"
      },
      "source": [
        "#Hidden Layers : 1000, 500, 20\n",
        "#IL Nodes: 3000\n",
        "#OL Nodes: 1 single node with sigmoid activation"
      ],
      "execution_count": null,
      "outputs": []
    },
    {
      "cell_type": "code",
      "metadata": {
        "id": "i24aptJaTLl2"
      },
      "source": [
        "# Deep Learning modules\n",
        "\n",
        "import numpy as np\n",
        "\n",
        "from keras.models import Sequential\n",
        "\n",
        "from keras.layers.core import Dense, Dropout, Activation\n",
        "\n",
        "import tensorflow\n",
        "\n",
        "from tensorflow.keras.optimizers import Adadelta, Adam, RMSprop\n",
        "\n",
        "from keras.utils import np_utils"
      ],
      "execution_count": 18,
      "outputs": []
    },
    {
      "cell_type": "code",
      "metadata": {
        "id": "nreIYFdoTOKm"
      },
      "source": [
        "#Deep Layer Model building in Keras\n",
        "\n",
        "#del model\n",
        "\n",
        "model = Sequential()\n",
        "\n",
        "model.add(Dense(1000,input_shape= (1766,)))\n",
        "\n",
        "model.add(Activation('relu'))\n",
        "\n",
        "model.add(Dropout(0.5))\n",
        "\n",
        "model.add(Dense(500))\n",
        "\n",
        "model.add(Activation('relu'))\n",
        "\n",
        "model.add(Dropout(0.5))\n",
        "\n",
        "model.add(Dense(50))\n",
        "\n",
        "model.add(Activation('relu'))\n",
        "\n",
        "model.add(Dropout(0.5))\n",
        "\n",
        "model.add(Dense(1))\n",
        "\n",
        "model.add(Activation('sigmoid'))\n",
        "\n",
        "model.compile(loss='binary_crossentropy', optimizer='adam')"
      ],
      "execution_count": 21,
      "outputs": []
    },
    {
      "cell_type": "code",
      "metadata": {
        "colab": {
          "base_uri": "https://localhost:8080/"
        },
        "id": "Xgm1HV5NTbsK",
        "outputId": "6f5b5f0e-fb4b-4a17-b3f1-f7fb852008be"
      },
      "source": [
        "model.fit(features_train_vectorized, labels_train, batch_size=100, epochs=4)"
      ],
      "execution_count": 22,
      "outputs": [
        {
          "output_type": "stream",
          "name": "stdout",
          "text": [
            "Epoch 1/4\n",
            "40/40 [==============================] - 2s 30ms/step - loss: 0.5763\n",
            "Epoch 2/4\n",
            "40/40 [==============================] - 1s 29ms/step - loss: 0.2380\n",
            "Epoch 3/4\n",
            "40/40 [==============================] - 1s 30ms/step - loss: 0.1228\n",
            "Epoch 4/4\n",
            "40/40 [==============================] - 1s 29ms/step - loss: 0.0594\n"
          ]
        },
        {
          "output_type": "execute_result",
          "data": {
            "text/plain": [
              "<keras.callbacks.History at 0x7ff4f938e210>"
            ]
          },
          "metadata": {},
          "execution_count": 22
        }
      ]
    },
    {
      "cell_type": "code",
      "metadata": {
        "colab": {
          "base_uri": "https://localhost:8080/"
        },
        "id": "E0S0qxyZTey9",
        "outputId": "8040ef6d-e057-4caf-ee17-40aa470e76b0"
      },
      "source": [
        "#Model Prediction\n",
        "\n",
        "labels_train_predclass = model.predict(features_train_vectorized,batch_size=200)\n",
        "\n",
        "labels_test_predclass = model.predict(vect.transform(features_test).todense(),batch_size=200)\n",
        "\n",
        "from sklearn.metrics import accuracy_score\n",
        "\n",
        "print(accuracy_score(labels_train, np.round(abs(labels_train_predclass)), normalize=False) )\n",
        "\n",
        "#print(accuracy_score(labels_train, labels_test_predclass))\n"
      ],
      "execution_count": 23,
      "outputs": [
        {
          "output_type": "stream",
          "name": "stdout",
          "text": [
            "3931\n"
          ]
        }
      ]
    },
    {
      "cell_type": "code",
      "metadata": {
        "id": "jeKqDw6LUFjk"
      },
      "source": [
        "model.save('model.h5')"
      ],
      "execution_count": 24,
      "outputs": []
    },
    {
      "cell_type": "code",
      "metadata": {
        "id": "86YtgwyyviU_"
      },
      "source": [
        "#how to load the keras model\n",
        "from keras.models import load_model\n",
        "recreated_model = load_model('model.h5')"
      ],
      "execution_count": 25,
      "outputs": []
    },
    {
      "cell_type": "code",
      "metadata": {
        "id": "Wsr3N3HdvkjE",
        "colab": {
          "base_uri": "https://localhost:8080/"
        },
        "outputId": "408bf633-a3b7-495b-a0ac-be1d1a7805d5"
      },
      "source": [
        "model.summary()"
      ],
      "execution_count": 26,
      "outputs": [
        {
          "output_type": "stream",
          "name": "stdout",
          "text": [
            "Model: \"sequential_1\"\n",
            "_________________________________________________________________\n",
            "Layer (type)                 Output Shape              Param #   \n",
            "=================================================================\n",
            "dense_4 (Dense)              (None, 1000)              1767000   \n",
            "_________________________________________________________________\n",
            "activation_4 (Activation)    (None, 1000)              0         \n",
            "_________________________________________________________________\n",
            "dropout_3 (Dropout)          (None, 1000)              0         \n",
            "_________________________________________________________________\n",
            "dense_5 (Dense)              (None, 500)               500500    \n",
            "_________________________________________________________________\n",
            "activation_5 (Activation)    (None, 500)               0         \n",
            "_________________________________________________________________\n",
            "dropout_4 (Dropout)          (None, 500)               0         \n",
            "_________________________________________________________________\n",
            "dense_6 (Dense)              (None, 50)                25050     \n",
            "_________________________________________________________________\n",
            "activation_6 (Activation)    (None, 50)                0         \n",
            "_________________________________________________________________\n",
            "dropout_5 (Dropout)          (None, 50)                0         \n",
            "_________________________________________________________________\n",
            "dense_7 (Dense)              (None, 1)                 51        \n",
            "_________________________________________________________________\n",
            "activation_7 (Activation)    (None, 1)                 0         \n",
            "=================================================================\n",
            "Total params: 2,292,601\n",
            "Trainable params: 2,292,601\n",
            "Non-trainable params: 0\n",
            "_________________________________________________________________\n"
          ]
        }
      ]
    }
  ]
}